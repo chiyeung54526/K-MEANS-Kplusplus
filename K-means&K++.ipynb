{
 "cells": [
  {
   "cell_type": "code",
   "execution_count": 1,
   "id": "b047ce2a",
   "metadata": {},
   "outputs": [
    {
     "data": {
      "text/plain": [
       "<matplotlib.collections.PathCollection at 0x17dbf5bd400>"
      ]
     },
     "execution_count": 1,
     "metadata": {},
     "output_type": "execute_result"
    },
    {
     "data": {
      "image/png": "[encoded data removed]",
      "text/plain": [
       "<Figure size 432x288 with 1 Axes>"
      ]
     },
     "metadata": {
      "needs_background": "light"
     },
     "output_type": "display_data"
    }
   ],
   "source": [
    "import numpy as np \n",
    "from matplotlib import pyplot\n",
    "N = 100\n",
    " \n",
    "mean1 = [6, 15] \n",
    "mean2 = [6, 11] \n",
    " \n",
    "mean3 = [16,15] \n",
    "mean4 = [16,11] \n",
    " \n",
    "cov = [[2, 0], [0, 2]] \n",
    " \n",
    "np.random.seed(50) \n",
    "X = np.random.multivariate_normal( mean1, cov, int(N/4)) \n",
    "X = np.concatenate ((X, np.random.multivariate_normal ( mean2, cov, int(N/4)))) \n",
    "X = np.concatenate ((X, np.random.multivariate_normal ( mean3, cov, int(N/4)))) \n",
    "X = np.concatenate ((X, np.random.multivariate_normal ( mean4, cov, int(N/4)))) \n",
    "pyplot.scatter(X[:,0], X[:,1])"
   ]
  },
  {
   "cell_type": "markdown",
   "id": "57307347",
   "metadata": {},
   "source": [
    "K-means "
   ]
  },
  {
   "cell_type": "code",
   "execution_count": 2,
   "id": "b95bf86a",
   "metadata": {},
   "outputs": [],
   "source": [
    "def distance_cal(x1, x2):\n",
    "    return np.sqrt(np.sum((x1-x2)**2))\n",
    "\n",
    "def K_means(data, K, iter_value):\n",
    "#     data: input dataset\n",
    "#     K: how many clusters you want to distribute, max K = 7\n",
    "#     iter_value: steps for iteration\n",
    "    centers = {}\n",
    "    for i in range(K):\n",
    "#         centers[i] = data[np.random.randint((len(data)))]\n",
    "#         generate 4 initial center points\n",
    "        centers[i] = np.random.uniform(low=data.min(), high=data.max(), size=(1,))\n",
    "    category ={} \n",
    "    for j in range(K):\n",
    "        category[j] = []\n",
    "        \n",
    "    categoryNew ={}\n",
    "    for j in range(K):\n",
    "        categoryNew[j] = []\n",
    "        \n",
    "    for i in range(iter_value):\n",
    "        for feature in data:\n",
    "            distances = []\n",
    "            for center in centers:\n",
    "                distances.append(distance_cal(feature,centers[center]))\n",
    "                # np.linalg.norm also works \n",
    "                # distances.append(np.linalg.norm(feature - centers[center]))\n",
    "            classification = distances.index(min(distances))\n",
    "            category[classification].append(feature)\n",
    "    # update centroid\n",
    "        for cat in category:\n",
    "            sumTemp = np.zeros(2)\n",
    "            for point in category[cat]:\n",
    "                sumTemp += np.array(point)\n",
    "            # latest centroid\n",
    "            centers[cat] = sumTemp / len(category[cat])\n",
    "\n",
    "    newcenters = {}      \n",
    "    newcenters = centers\n",
    "    for feature in data:\n",
    "        distancesNew = []\n",
    "        for center in newcenters:\n",
    "            distancesNew.append(distance_cal(feature,centers[center]))\n",
    "            # distancesNew.append(np.linalg.norm(feature - centers[center]))\n",
    "        classification = distancesNew.index(min(distancesNew))\n",
    "        categoryNew[classification].append(feature)\n",
    "\n",
    "# max clusters = 7. ADD MORE colors which allows classify into more clusters\n",
    "    colors = ['r', 'g', 'b', 'y', 'c', 'm', 'k']\n",
    "    for cat in categoryNew:\n",
    "        for point in categoryNew[cat]:\n",
    "            pyplot.scatter(point[0], point[1], c=colors[cat])\n",
    "                \n",
    "    for center in newcenters:\n",
    "        print(newcenters[center])\n",
    "        pyplot.scatter(newcenters[center][0], newcenters[center][1], marker='+', s=200,c = 'k')\n",
    "\n",
    "##################    SSE    ##################\n",
    "    SSE_value =0\n",
    "    for nc in newcenters:\n",
    "        for point in categoryNew[nc]:\n",
    "            tempValue =np.sum((point[0]-newcenters[nc][0])**2 + (point[1]-newcenters[nc][1])**2)\n",
    "            SSE_value += tempValue\n",
    "    print('SSE value is:', SSE_value)"
   ]
  },
  {
   "cell_type": "code",
   "execution_count": 3,
   "id": "a35ac98e",
   "metadata": {
    "scrolled": true
   },
   "outputs": [
    {
     "name": "stderr",
     "output_type": "stream",
     "text": [
      "<ipython-input-2-248780b8ad81>:36: RuntimeWarning: invalid value encountered in true_divide\n",
      "  centers[cat] = sumTemp / len(category[cat])\n"
     ]
    },
    {
     "name": "stdout",
     "output_type": "stream",
     "text": [
      "[ 6.27574425 12.80456342]\n",
      "[nan nan]\n",
      "[15.95143883 15.30157855]\n",
      "[15.47333702 11.27579266]\n",
      "SSE value is: 715.4447361645701\n"
     ]
    },
    {
     "data": {
      "image/png": "[encoded data removed]",
      "text/plain": [
       "<Figure size 432x288 with 1 Axes>"
      ]
     },
     "metadata": {
      "needs_background": "light"
     },
     "output_type": "display_data"
    }
   ],
   "source": [
    "K_means(X,4,50)"
   ]
  },
  {
   "cell_type": "markdown",
   "id": "7af08632",
   "metadata": {},
   "source": [
    "\n",
    "As the result shows, at the SSE value equals about 400, the clustering is considered well. The reason why each runtime can have a different result in clustering is the initial centroids are chosen randomly. If a random point happens to be fallen near an outlier (noise), the clustering result may perform worse, even if the value of iteration is set very high."
   ]
  },
  {
   "cell_type": "markdown",
   "id": "d9180003",
   "metadata": {},
   "source": [
    "K-means++ "
   ]
  },
  {
   "cell_type": "code",
   "execution_count": 4,
   "id": "f9c8eecd",
   "metadata": {
    "scrolled": false
   },
   "outputs": [],
   "source": [
    "def distance_cal(x1, x2):\n",
    "    return np.sqrt(np.sum((x1-x2)**2))\n",
    "\n",
    "def K_means_PlusPlus(data, k):\n",
    "    # data: input dataset\n",
    "    # K: how many clusters\n",
    "    centers = {}\n",
    "    # Select an initial point at random to be the first centroid\n",
    "    P1 = data[np.random.randint((len(data)))]\n",
    "    centers[0] = P1\n",
    "    dist = 0\n",
    "    sum_dist = 0\n",
    "    probility = 0\n",
    "    tempProb = 0\n",
    "    probilitySum = 0\n",
    "    distMatrix = np.zeros(len(data))\n",
    "    probilityMatrix = np.zeros(len(data))\n",
    "    randomArray = np.random.random_sample(3)\n",
    "#     randomArray = np.random.uniform(low=0, high=0.85, size=(3,))\n",
    "    cnt = 0\n",
    "    for i in data:\n",
    "        dist = distance_cal(i, P1)\n",
    "        sum_dist += dist**2\n",
    "        cnt+=1\n",
    "\n",
    "    cnt = 0\n",
    "    for i in data:\n",
    "        dist = distance_cal(i, P1)\n",
    "        tempProb = (dist**2) / sum_dist\n",
    "        probilityMatrix[cnt] = tempProb\n",
    "        probilitySum += tempProb\n",
    "        cnt += 1\n",
    "\n",
    "#    roulette wheel selection 判断点落在哪个区间内\n",
    "    dataIndex = -1\n",
    "    sumPx = 0\n",
    "    for i in range(len(probilityMatrix)):\n",
    "        if (randomArray[0] > sumPx):\n",
    "            sumPx = sumPx + probilityMatrix[i]\n",
    "            dataIndex += 1\n",
    "    #     the second centroid\n",
    "    P2 = data[dataIndex]\n",
    "    centers[1] = data[dataIndex]\n",
    "    \n",
    "#     --------------------------------------\n",
    "    cnt = 0\n",
    "    max_dist =0\n",
    "    sum_dist = 0\n",
    "    probilitySum =0 \n",
    "    dist = 0\n",
    "    for i in data:\n",
    "        distTo1 = distance_cal(i, P1)\n",
    "        distTo2 = distance_cal(i, P2)\n",
    "        dist = min(distTo1, distTo2)\n",
    "        distMatrix[cnt] = (dist**2)\n",
    "        cnt += 1\n",
    " \n",
    "    cnt = 0\n",
    "    for i in distMatrix:\n",
    "        sum_dist += i\n",
    "\n",
    "    for i in distMatrix:\n",
    "        tempProb = i / sum_dist\n",
    "        probilityMatrix[cnt] = tempProb\n",
    "        probilitySum += tempProb\n",
    "        cnt += 1 \n",
    "\n",
    "    #  roulette wheel selection 判断点落在哪个区间内\n",
    "    dataIndex = -1\n",
    "    sumPx = 0\n",
    "    for i in range(len(probilityMatrix)):\n",
    "        if (randomArray[1] > sumPx):\n",
    "            sumPx = sumPx + probilityMatrix[i]\n",
    "            dataIndex += 1\n",
    "    #   the third centroid\n",
    "    P3 = data[dataIndex]\n",
    "    centers[2] = data[dataIndex]\n",
    "\n",
    "# -----------------------------------------------\n",
    "    cnt = 0\n",
    "    max_dist =0\n",
    "    sum_dist = 0\n",
    "    probilitySum =0 \n",
    "    dist = 0\n",
    "    for i in data:\n",
    "        distTo1 = distance_cal(i, P1)\n",
    "        distTo2 = distance_cal(i, P2)\n",
    "        distTo3 = distance_cal(i, P3)\n",
    "        dist = min(distTo1, distTo2, distTo3)\n",
    "        distMatrix[cnt] = (dist**2)\n",
    "        cnt += 1\n",
    "    \n",
    "    cnt = 0\n",
    "    for i in distMatrix:\n",
    "        sum_dist += i\n",
    "    \n",
    "    cnt = 0\n",
    "    for i in distMatrix:\n",
    "        tempProb = i / sum_dist\n",
    "        probilityMatrix[cnt] = tempProb \n",
    "        probilitySum += tempProb \n",
    "        cnt += 1\n",
    "\n",
    "    #  roulette wheel selection 判断点落在哪个区间内\n",
    "    dataIndex = -1\n",
    "    sumPx = 0\n",
    "    for i in range(len(probilityMatrix)):\n",
    "        if (randomArray[2] > sumPx):\n",
    "            sumPx = sumPx + probilityMatrix[i]\n",
    "            dataIndex += 1\n",
    "    #    the forth centroid\n",
    "    P4 = data[dataIndex]\n",
    "    centers[3] = data[dataIndex]\n",
    "\n",
    "#     clustering\n",
    "    categoryNew ={}\n",
    "    for j in range(k):\n",
    "        categoryNew[j] = []\n",
    "    for feature in data:\n",
    "        distancesNew = []\n",
    "        for center in centers:\n",
    "            distancesNew.append(distance_cal(feature,centers[center]))\n",
    "        classification = distancesNew.index(min(distancesNew))\n",
    "        categoryNew[classification].append(feature)\n",
    "        \n",
    "    # max clusters k = 4.\n",
    "    colors = ['r', 'g', 'b', 'y']\n",
    "    for cat in categoryNew:\n",
    "        for point in categoryNew[cat]:\n",
    "            pyplot.scatter(point[0], point[1], c=colors[cat])\n",
    "        \n",
    "    for center in centers:\n",
    "        print(centers[center])\n",
    "        pyplot.scatter(centers[center][0], centers[center][1], marker='+', s=200,c = 'k')\n",
    "        \n",
    "        ##################    SSE    ##################\n",
    "    SSE_value =0\n",
    "    for nc in centers:\n",
    "        for point in categoryNew[nc]:\n",
    "            tempValue =np.sum((point[0]-centers[nc][0])**2 + (point[1]-centers[nc][1])**2)\n",
    "            SSE_value += tempValue\n",
    "    print('SSE value is:', SSE_value)\n",
    "#     return SSE_value"
   ]
  },
  {
   "cell_type": "code",
   "execution_count": 6,
   "id": "ead42338",
   "metadata": {},
   "outputs": [
    {
     "name": "stdout",
     "output_type": "stream",
     "text": [
      "[17.02611585 10.70644259]\n",
      "[ 6.17517334 16.05045718]\n",
      "[ 5.76728358 11.39343339]\n",
      "[15.24970695 16.19125657]\n",
      "SSE value is: 524.4271963584138\n"
     ]
    },
    {
     "data": {
      "image/png": "[encoded data removed]",
      "text/plain": [
       "<Figure size 432x288 with 1 Axes>"
      ]
     },
     "metadata": {
      "needs_background": "light"
     },
     "output_type": "display_data"
    }
   ],
   "source": [
    "K_means_PlusPlus(X,4)"
   ]
  },
  {
   "cell_type": "markdown",
   "id": "a1df3895",
   "metadata": {},
   "source": [
    "\n",
    "For the aspect of quantitatively, both K-means and K-means++ can find a proper centroid position for clustering. For this dataset, the SSE value evaluated by the K-means++ method performs not well, I think is because the K-means++ method finds centroid points based on the points' position in the dataset and this dataset used for analysis is a little bit dispersive, hence the probability in choosing an outlier as centroid is high for k-means++ method.\n",
    "\n",
    "For the aspect of qualitatively, K-means method can determine centroids by doing as many iterations but it may produce different results because choosing a center point is random. K-means method is also very sensitive to outliers and noise and is more likely to form a globular clustering, which is the weakness of K-means.\n",
    "\n",
    "Speaking of K-means++, the improvement is that the distance between initial cluster centers should be as far as possible. As the figure shows, we can find it 4 center points of clusters are in a good position. K-means++ method still is affected by outliers and noise, if a preprocessing procedure can be done to a dataset like removing some far-away outliers, the centroid position would be much better."
   ]
  }
 ],
 "metadata": {
  "kernelspec": {
   "display_name": "Python 3",
   "language": "python",
   "name": "python3"
  },
  "language_info": {
   "codemirror_mode": {
    "name": "ipython",
    "version": 3
   },
   "file_extension": ".py",
   "mimetype": "text/x-python",
   "name": "python",
   "nbconvert_exporter": "python",
   "pygments_lexer": "ipython3",
   "version": "3.8.8"
  }
 },
 "nbformat": 4,
 "nbformat_minor": 5
}
